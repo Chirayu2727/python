{
  "nbformat": 4,
  "nbformat_minor": 0,
  "metadata": {
    "colab": {
      "provenance": []
    },
    "kernelspec": {
      "name": "python3",
      "display_name": "Python 3"
    },
    "language_info": {
      "name": "python"
    }
  },
  "cells": [
    {
      "cell_type": "code",
      "source": [
        "generateSquare(6)"
      ],
      "metadata": {
        "id": "MUjooHsinPxx"
      },
      "execution_count": null,
      "outputs": []
    },
    {
      "cell_type": "code",
      "execution_count": 3,
      "metadata": {
        "colab": {
          "base_uri": "https://localhost:8080/"
        },
        "id": "KEyGLPThnNY4",
        "outputId": "23237f1c-f74c-4210-b761-8ee7a82307b8"
      },
      "outputs": [
        {
          "output_type": "stream",
          "name": "stdout",
          "text": [
            "The magic sum is  65 \n",
            "\n",
            " 9  3 22 16 15 \n",
            " 2 21 20 14  8 \n",
            "25 19 13  7  1 \n",
            "18 12  6  5 24 \n",
            "11 10  4 23 17 \n"
          ]
        }
      ],
      "source": [
        "def GenerateMagicSquare(n):\n",
        "#initializing the array\n",
        "\tmagic = [[0 for x in range(n)]\n",
        "\t\t\t\tfor y in range(n)]\n",
        "\t#setting row and column value\n",
        "\ti = n // 2\n",
        "\tj = n - 1\n",
        "\tk = 1\n",
        "\twhile k <= (n * n):\n",
        "\t    #checking condition (c)\n",
        "\t\tif i == -1 and j == n:\n",
        "\t\t\tj = n - 2\n",
        "\t\t\ti = 0\n",
        "\t\telse:\n",
        "\t\t\t#checking condition (a)\n",
        "\t\t\tif j == n:\n",
        "\t\t\t\tj = 0\n",
        "\t\t\tif i < 0:\n",
        "\t\t\t\ti = n - 1\n",
        "        #checking conditon (b)\n",
        "\t\tif magic[i][j]:\n",
        "\t\t\tj = j - 2\n",
        "\t\t\ti = i + 1\n",
        "\t\t\tcontinue\n",
        "\t\telse:\n",
        "\t\t    #placing the number into the array\n",
        "\t\t\tmagic[i][j] = k\n",
        "\t\t\tk = k + 1\n",
        "        #for the next number setting (i-1, j+1)\n",
        "\t\tj = j + 1\n",
        "\t\ti = i - 1\n",
        "\t#printing the matrix\n",
        "\tfor i in range(0, n):\n",
        "\t\tfor j in range(0, n):\n",
        "\t\t\tprint('%2d ' % (magic[i][j]),end='')\n",
        "\t\t\tif j == n - 1:\n",
        "\t\t\t\tprint()\n",
        "#This code works for only odd numbers\n",
        "n = 5\n",
        "\n",
        "print(\"The magic sum is \",n * (n * n + 1) // 2, \"\\n\")\n",
        "GenerateMagicSquare(n)"
      ]
    },
    {
      "cell_type": "code",
      "source": [
        "def GenerateMagicSquare(n):\n",
        "#initializing the array\n",
        "\tmagic = [[0 for x in range(n)]\n",
        "\t\t\t\tfor y in range(n)]\n",
        "\t#setting row and column value\n",
        "\ti = n // 2\n",
        "\tj = n - 1\n",
        "\tk = 1\n",
        "\twhile k <= (n * n):\n",
        "\t    #checking condition (c)\n",
        "\t\tif i == -1 and j == n:\n",
        "\t\t\tj = n - 2\n",
        "\t\t\ti = 0\n",
        "\t\telse:\n",
        "\t\t\t#checking condition (a)\n",
        "\t\t\tif j == n:\n",
        "\t\t\t\tj = 0\n",
        "\t\t\tif i < 0:\n",
        "\t\t\t\ti = n - 1\n",
        "        #checking conditon (b)\n",
        "\t\tif magic[i][j]:\n",
        "\t\t\tj = j - 2\n",
        "\t\t\ti = i + 1\n",
        "\t\t\tcontinue\n",
        "\t\telse:\n",
        "\t\t    #placing the number into the array\n",
        "\t\t\tmagic[i][j] = k\n",
        "\t\t\tk = k + 1\n",
        "        #for the next number setting (i-1, j+1)\n",
        "\t\tj = j + 1\n",
        "\t\ti = i - 1\n",
        "\t#printing the matrix\n",
        "\tfor i in range(0, n):\n",
        "\t\tfor j in range(0, n):\n",
        "\t\t\tprint('%2d ' % (magic[i][j]),end='')\n",
        "\t\t\tif j == n - 1:\n",
        "\t\t\t\tprint()\n",
        "#This code works for only odd numbers\n",
        "n = 5\n",
        "print( \"n=\",n)\n",
        "print(\"The magic sum is \",n * (n * n + 1) // 2, \"\\n\")\n",
        "\n",
        "GenerateMagicSquare(n)"
      ],
      "metadata": {
        "colab": {
          "base_uri": "https://localhost:8080/"
        },
        "id": "c-nP17XDnUlg",
        "outputId": "5a985491-9941-49ec-e279-9b7c43b1efd0"
      },
      "execution_count": 5,
      "outputs": [
        {
          "output_type": "stream",
          "name": "stdout",
          "text": [
            "n= 5\n",
            "The magic sum is  65 \n",
            "\n",
            " 9  3 22 16 15 \n",
            " 2 21 20 14  8 \n",
            "25 19 13  7  1 \n",
            "18 12  6  5 24 \n",
            "11 10  4 23 17 \n"
          ]
        }
      ]
    },
    {
      "cell_type": "code",
      "source": [],
      "metadata": {
        "id": "QSY_SdLHoL4l"
      },
      "execution_count": null,
      "outputs": []
    },
    {
      "cell_type": "code",
      "source": [],
      "metadata": {
        "id": "q0HHpECgoAef"
      },
      "execution_count": null,
      "outputs": []
    }
  ]
}