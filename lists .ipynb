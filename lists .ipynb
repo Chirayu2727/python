{
 "cells": [
  {
   "cell_type": "code",
   "execution_count": 1,
   "id": "ed3f21fd",
   "metadata": {},
   "outputs": [
    {
     "name": "stdout",
     "output_type": "stream",
     "text": [
      "['apple', 18, 'banana', 12, 'chiiku', 15]\n"
     ]
    }
   ],
   "source": [
    "\n",
    "fruit=[\"apple\",18,\"banana\",12,\"chiiku\",15] \n",
    "print (fruit)"
   ]
  },
  {
   "cell_type": "code",
   "execution_count": 2,
   "id": "9dea09a5",
   "metadata": {},
   "outputs": [
    {
     "name": "stdout",
     "output_type": "stream",
     "text": [
      "['tomatoes', ['apple', 18, 'banana', 12, 'chiiku', 15]]\n"
     ]
    }
   ],
   "source": [
    "vegetable=[\"tomatoes\",fruit]\n",
    "print(vegetable)"
   ]
  },
  {
   "cell_type": "code",
   "execution_count": 3,
   "id": "8fd6e5bf",
   "metadata": {},
   "outputs": [
    {
     "name": "stdout",
     "output_type": "stream",
     "text": [
      "[['apple', 18, 'banana', 12, 'chiiku', 15], ['tomatoes', ['apple', 18, 'banana', 12, 'chiiku', 15]], 'roti']\n"
     ]
    }
   ],
   "source": [
    "lunch=[fruit,vegetable,\"roti\"]\n",
    "print(lunch)"
   ]
  },
  {
   "cell_type": "code",
   "execution_count": 5,
   "id": "09890947",
   "metadata": {},
   "outputs": [
    {
     "name": "stdout",
     "output_type": "stream",
     "text": [
      " \n"
     ]
    }
   ],
   "source": [
    "#indexing\n",
    "a=\" hello \"\n",
    "print(a[0])"
   ]
  },
  {
   "cell_type": "code",
   "execution_count": 6,
   "id": "142d9063",
   "metadata": {},
   "outputs": [
    {
     "name": "stdout",
     "output_type": "stream",
     "text": [
      "abcd\n",
      "b\n"
     ]
    }
   ],
   "source": [
    "input with the help of indexing\n",
    "var=input()[1]\n",
    "print(var)"
   ]
  },
  {
   "cell_type": "code",
   "execution_count": 10,
   "id": "d25c4392",
   "metadata": {},
   "outputs": [
    {
     "name": "stdout",
     "output_type": "stream",
     "text": [
      "[2]\n"
     ]
    }
   ],
   "source": [
    "#slicing\n",
    "a=[1,2,3,4]\n",
    "print(a[1:2])\n"
   ]
  },
  {
   "cell_type": "code",
   "execution_count": 27,
   "id": "cab9c62c",
   "metadata": {},
   "outputs": [
    {
     "name": "stdout",
     "output_type": "stream",
     "text": [
      "['a', 3, 'c', 12, 'l']\n"
     ]
    }
   ],
   "source": [
    "A=[\"a\",3,\"c\",12,\"l\"]\n",
    "print(A[0:5])\n",
    "                          #[\"a\",3,\"c\",12,\"l\"]\n",
    "                   #indexing 0  1  2  3   4\n",
    "                   #indexing -5  -4  -3  -2   -1        (negative indexing starts from right to l by -1)\n",
    "        \n"
   ]
  },
  {
   "cell_type": "code",
   "execution_count": 32,
   "id": "33fc64b7",
   "metadata": {},
   "outputs": [
    {
     "data": {
      "text/plain": [
       "[]"
      ]
     },
     "execution_count": 32,
     "metadata": {},
     "output_type": "execute_result"
    }
   ],
   "source": [
    "numbers = [1, 2, 3, 4, 5, 6, 7, 8, 9, 10]\n",
    "numbers[-3:0]   #ends wit 0 indexing will give you empty\n",
    "\n",
    "\n"
   ]
  },
  {
   "cell_type": "code",
   "execution_count": 33,
   "id": "0abd8622",
   "metadata": {},
   "outputs": [
    {
     "data": {
      "text/plain": [
       "[8, 9]"
      ]
     },
     "execution_count": 33,
     "metadata": {},
     "output_type": "execute_result"
    }
   ],
   "source": [
    "numbers[-3:-1]"
   ]
  },
  {
   "cell_type": "code",
   "execution_count": 34,
   "id": "a48fac86",
   "metadata": {},
   "outputs": [
    {
     "data": {
      "text/plain": [
       "[]"
      ]
     },
     "execution_count": 34,
     "metadata": {},
     "output_type": "execute_result"
    }
   ],
   "source": [
    "numbers[3:0]"
   ]
  },
  {
   "cell_type": "code",
   "execution_count": 35,
   "id": "e76a4980",
   "metadata": {},
   "outputs": [
    {
     "data": {
      "text/plain": [
       "[1, 2, 3, 4, 5, 6]"
      ]
     },
     "execution_count": 35,
     "metadata": {},
     "output_type": "execute_result"
    }
   ],
   "source": [
    "numbers[0:6]"
   ]
  },
  {
   "cell_type": "code",
   "execution_count": 38,
   "id": "8baf500c",
   "metadata": {},
   "outputs": [
    {
     "data": {
      "text/plain": [
       "[1, 2, 3, 4, 5, 6]"
      ]
     },
     "execution_count": 38,
     "metadata": {},
     "output_type": "execute_result"
    }
   ],
   "source": [
    "numbers[0:-4]"
   ]
  },
  {
   "cell_type": "code",
   "execution_count": 39,
   "id": "6a54f2c9",
   "metadata": {},
   "outputs": [
    {
     "data": {
      "text/plain": [
       "[8, 9, 10]"
      ]
     },
     "execution_count": 39,
     "metadata": {},
     "output_type": "execute_result"
    }
   ],
   "source": [
    "numbers[-3:]"
   ]
  },
  {
   "cell_type": "code",
   "execution_count": 52,
   "id": "a6d85fd9",
   "metadata": {},
   "outputs": [
    {
     "data": {
      "text/plain": [
       "[1, 2, 3, 4, 5, 6, 7]"
      ]
     },
     "execution_count": 52,
     "metadata": {},
     "output_type": "execute_result"
    }
   ],
   "source": [
    "numbers[0:-3:-1]                       # doubt\n",
    "numbers[0:-3:1]"
   ]
  },
  {
   "cell_type": "code",
   "execution_count": 59,
   "id": "4d42289d",
   "metadata": {},
   "outputs": [
    {
     "data": {
      "text/plain": [
       "[5, 3]"
      ]
     },
     "execution_count": 59,
     "metadata": {},
     "output_type": "execute_result"
    }
   ],
   "source": [
    "numbers[4:0:-2]                         #doubt"
   ]
  },
  {
   "cell_type": "code",
   "execution_count": 44,
   "id": "a92e1af2",
   "metadata": {},
   "outputs": [
    {
     "data": {
      "text/plain": [
       "[1, 2, 3, 4, 5, 6, 7, 8, 9, 10]"
      ]
     },
     "execution_count": 44,
     "metadata": {},
     "output_type": "execute_result"
    }
   ],
   "source": [
    "numbers[:]                            #doubt"
   ]
  },
  {
   "cell_type": "code",
   "execution_count": 57,
   "id": "2b550148",
   "metadata": {},
   "outputs": [
    {
     "name": "stdout",
     "output_type": "stream",
     "text": [
      "Please enter the URL:https://www.google.com/\n",
      "Domain name: www.google.com\n",
      "Domain name:  www.google.com\n"
     ]
    }
   ],
   "source": [
    "# Split up a URL of the form http://www.something.com\n",
    "url = input('Please enter the URL:')\n",
    "domain = url[8:-1]\n",
    "print(\"Domain name: \" + domain)\n",
    "print(\"Domain name: \" , domain)  #that why we dont use \",\" bcoz it give one more whitespace as we can see in output"
   ]
  },
  {
   "cell_type": "code",
   "execution_count": 1,
   "id": "de831b5d",
   "metadata": {},
   "outputs": [
    {
     "ename": "NameError",
     "evalue": "name 'numbers' is not defined",
     "output_type": "error",
     "traceback": [
      "\u001b[1;31m---------------------------------------------------------------------------\u001b[0m",
      "\u001b[1;31mNameError\u001b[0m                                 Traceback (most recent call last)",
      "Cell \u001b[1;32mIn[1], line 2\u001b[0m\n\u001b[0;32m      1\u001b[0m \u001b[38;5;66;03m#Longer Steps\u001b[39;00m\n\u001b[1;32m----> 2\u001b[0m \u001b[38;5;28mprint\u001b[39m(numbers[\u001b[38;5;241m0\u001b[39m:\u001b[38;5;241m10\u001b[39m:\u001b[38;5;241m1\u001b[39m])  \u001b[38;5;66;03m# one step\u001b[39;00m\n\u001b[0;32m      3\u001b[0m \u001b[38;5;28mprint\u001b[39m(numbers[\u001b[38;5;241m0\u001b[39m:\u001b[38;5;241m10\u001b[39m:\u001b[38;5;241m2\u001b[39m])\n",
      "\u001b[1;31mNameError\u001b[0m: name 'numbers' is not defined"
     ]
    }
   ],
   "source": [
    "#Longer Steps\n",
    "print(numbers[0:10:1])  # one step\n",
    "print(numbers[0:10:2]) # Two steps                        #doubt\n"
   ]
  },
  {
   "cell_type": "code",
   "execution_count": 61,
   "id": "84188a3a",
   "metadata": {},
   "outputs": [
    {
     "data": {
      "text/plain": [
       "[1, 2, 'a', 'b', 1, 2, 3]"
      ]
     },
     "execution_count": 61,
     "metadata": {},
     "output_type": "execute_result"
    }
   ],
   "source": [
    "[1,2]+[\"a\",\"b\"]+[1,2,3]   #we can addd"
   ]
  },
  {
   "cell_type": "code",
   "execution_count": 62,
   "id": "88c1587e",
   "metadata": {},
   "outputs": [
    {
     "name": "stdout",
     "output_type": "stream",
     "text": [
      "[1, 2, 3, 4, 5, 'a', 'c', 'e', 'f', 'ting']\n"
     ]
    }
   ],
   "source": [
    "a=[1,2,3,4,5]\n",
    "b=[\"a\",\"c\",\"e\",\"f\",\"ting\"]\n",
    "print(a+b)"
   ]
  },
  {
   "cell_type": "code",
   "execution_count": 2,
   "id": "59dc6128",
   "metadata": {},
   "outputs": [
    {
     "data": {
      "text/plain": [
       "True"
      ]
     },
     "execution_count": 2,
     "metadata": {},
     "output_type": "execute_result"
    }
   ],
   "source": [
    "#membership\n",
    "permission=\"rw\"\n",
    "\"r\" in permission\n",
    "    "
   ]
  },
  {
   "cell_type": "code",
   "execution_count": 11,
   "id": "cc0f27b6",
   "metadata": {},
   "outputs": [
    {
     "name": "stdout",
     "output_type": "stream",
     "text": [
      "enter the input2\n"
     ]
    },
    {
     "data": {
      "text/plain": [
       "True"
      ]
     },
     "execution_count": 11,
     "metadata": {},
     "output_type": "execute_result"
    }
   ],
   "source": [
    "ls=[2,\"apple\",56]\n",
    "n=int(input(\"enter the input\" )) \n",
    "n in ls\n"
   ]
  },
  {
   "cell_type": "code",
   "execution_count": null,
   "id": "bed3f623",
   "metadata": {},
   "outputs": [],
   "source": [
    "database=[[\"apple\",\"1245\"],[\"banana\",\"4567\"]]\n",
    "username=input(\"enter your name:\")\n",
    "pin=int(input(\" enter the password:\"))\n",
    "if[username,pin] in database:print(\"access granted\")                  '''we can create a list named as database and can use \"in to ceck is it there\"'''"
   ]
  },
  {
   "cell_type": "code",
   "execution_count": 7,
   "id": "e5ccceca",
   "metadata": {},
   "outputs": [
    {
     "name": "stdout",
     "output_type": "stream",
     "text": [
      "[['h', 'e', 'l', 'l', 'o']]\n"
     ]
    }
   ],
   "source": [
    "\n",
    "ls1=[]\n",
    "s=\"hello\"\n",
    "\n",
    "ls1.append(list(s))\n",
    "print(ls1)"
   ]
  },
  {
   "cell_type": "code",
   "execution_count": null,
   "id": "9b9b56ef",
   "metadata": {},
   "outputs": [],
   "source": []
  }
 ],
 "metadata": {
  "kernelspec": {
   "display_name": "Python 3 (ipykernel)",
   "language": "python",
   "name": "python3"
  },
  "language_info": {
   "codemirror_mode": {
    "name": "ipython",
    "version": 3
   },
   "file_extension": ".py",
   "mimetype": "text/x-python",
   "name": "python",
   "nbconvert_exporter": "python",
   "pygments_lexer": "ipython3",
   "version": "3.11.3"
  }
 },
 "nbformat": 4,
 "nbformat_minor": 5
}
