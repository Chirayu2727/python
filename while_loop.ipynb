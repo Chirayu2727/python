{
 "cells": [
  {
   "cell_type": "code",
   "execution_count": 3,
   "id": "32b25b7b",
   "metadata": {},
   "outputs": [
    {
     "name": "stdout",
     "output_type": "stream",
     "text": [
      "1\n",
      "2\n",
      "3\n",
      "4\n",
      "5\n"
     ]
    }
   ],
   "source": [
    "i=1                                #intialisation\n",
    "while i <6:                        # i<6 defines number of occurence \n",
    "    \n",
    "    print(i)\n",
    "    i=i+1                          #increment in loop"
   ]
  },
  {
   "cell_type": "code",
   "execution_count": null,
   "id": "d4421abe",
   "metadata": {},
   "outputs": [],
   "source": []
  }
 ],
 "metadata": {
  "kernelspec": {
   "display_name": "Python 3 (ipykernel)",
   "language": "python",
   "name": "python3"
  },
  "language_info": {
   "codemirror_mode": {
    "name": "ipython",
    "version": 3
   },
   "file_extension": ".py",
   "mimetype": "text/x-python",
   "name": "python",
   "nbconvert_exporter": "python",
   "pygments_lexer": "ipython3",
   "version": "3.11.3"
  }
 },
 "nbformat": 4,
 "nbformat_minor": 5
}
