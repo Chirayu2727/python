{
 "cells": [
  {
   "cell_type": "code",
   "execution_count": 5,
   "id": "0a3c147e",
   "metadata": {},
   "outputs": [
    {
     "name": "stdout",
     "output_type": "stream",
     "text": [
      "[1]\n",
      "[1, 3]\n"
     ]
    }
   ],
   "source": [
    "#first we will create  a list \n",
    "ls=[]\n",
    "'''The append() function in Python takes a single item as an input parameter and adds it to the end of the given list.\n",
    "In Python, append() doesn't return a new list of items; in fact, it returns no value at all.\n",
    "It just modifies the original list by adding the item to the end of the list.\n",
    "'''\n",
    "ls.append(1)                         #it will add 1 from to the end of list\n",
    "print(ls)\n",
    "ls.append(3)                         # now 1 index changes and 3 become the last element of list\n",
    "print(ls)"
   ]
  },
  {
   "cell_type": "code",
   "execution_count": null,
   "id": "b04d8060",
   "metadata": {},
   "outputs": [],
   "source": []
  }
 ],
 "metadata": {
  "kernelspec": {
   "display_name": "Python 3 (ipykernel)",
   "language": "python",
   "name": "python3"
  },
  "language_info": {
   "codemirror_mode": {
    "name": "ipython",
    "version": 3
   },
   "file_extension": ".py",
   "mimetype": "text/x-python",
   "name": "python",
   "nbconvert_exporter": "python",
   "pygments_lexer": "ipython3",
   "version": "3.11.3"
  }
 },
 "nbformat": 4,
 "nbformat_minor": 5
}
