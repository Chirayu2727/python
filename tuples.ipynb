{
 "cells": [
  {
   "cell_type": "code",
   "execution_count": 1,
   "id": "1633df18",
   "metadata": {},
   "outputs": [
    {
     "name": "stdout",
     "output_type": "stream",
     "text": [
      "(1, 3, 4, 5, 6, 7, 8)\n"
     ]
    }
   ],
   "source": [
    "t1=(1,3,4,5,6,7,8)\n",
    "print(t1)"
   ]
  },
  {
   "cell_type": "code",
   "execution_count": 4,
   "id": "ba300ba5",
   "metadata": {},
   "outputs": [
    {
     "name": "stdout",
     "output_type": "stream",
     "text": [
      "(1, 3, 4, 5, 6, 7, 8)\n"
     ]
    }
   ],
   "source": [
    "t1[0]==11                                         #this is not changing value for 0th index\n",
    "print(t1)"
   ]
  },
  {
   "cell_type": "code",
   "execution_count": 5,
   "id": "b35173f3",
   "metadata": {},
   "outputs": [
    {
     "name": "stdout",
     "output_type": "stream",
     "text": [
      "7\n"
     ]
    }
   ],
   "source": [
    "#we can calculate length of tuples\n",
    "\n",
    "print(len(t1))"
   ]
  },
  {
   "cell_type": "code",
   "execution_count": 6,
   "id": "ad624275",
   "metadata": {},
   "outputs": [
    {
     "data": {
      "text/plain": [
       "1"
      ]
     },
     "execution_count": 6,
     "metadata": {},
     "output_type": "execute_result"
    }
   ],
   "source": [
    "min(t1)                                       #minimum functiom"
   ]
  },
  {
   "cell_type": "code",
   "execution_count": 7,
   "id": "786008a9",
   "metadata": {},
   "outputs": [
    {
     "data": {
      "text/plain": [
       "8"
      ]
     },
     "execution_count": 7,
     "metadata": {},
     "output_type": "execute_result"
    }
   ],
   "source": [
    "max(t1)"
   ]
  },
  {
   "cell_type": "code",
   "execution_count": 8,
   "id": "9293cc88",
   "metadata": {},
   "outputs": [
    {
     "data": {
      "text/plain": [
       "34"
      ]
     },
     "execution_count": 8,
     "metadata": {},
     "output_type": "execute_result"
    }
   ],
   "source": [
    "sum(t1)"
   ]
  },
  {
   "cell_type": "code",
   "execution_count": 10,
   "id": "3ca3e213",
   "metadata": {},
   "outputs": [
    {
     "name": "stdout",
     "output_type": "stream",
     "text": [
      "<class 'tuple'>\n"
     ]
    }
   ],
   "source": [
    "print(type(t1))"
   ]
  },
  {
   "cell_type": "code",
   "execution_count": 11,
   "id": "251797d2",
   "metadata": {},
   "outputs": [
    {
     "name": "stdout",
     "output_type": "stream",
     "text": [
      "(1, 3, 4, 5, 6, 7, 8, 'cherry', 'mango', 'litci')\n"
     ]
    }
   ],
   "source": [
    "#join two tuples\n",
    "t2=(\"cherry\",\"mango\",\"litci\")\n",
    "t3= t1+t2\n",
    "print(t3)"
   ]
  },
  {
   "cell_type": "code",
   "execution_count": 12,
   "id": "c00c2a86",
   "metadata": {},
   "outputs": [
    {
     "name": "stdout",
     "output_type": "stream",
     "text": [
      "1\n",
      "3\n",
      "4\n",
      "5\n",
      "6\n",
      "7\n",
      "8\n",
      "cherry\n",
      "mango\n",
      "litci\n"
     ]
    }
   ],
   "source": [
    "for x in t3:\n",
    "    print(x)"
   ]
  },
  {
   "cell_type": "code",
   "execution_count": 13,
   "id": "f680d0b6",
   "metadata": {},
   "outputs": [
    {
     "name": "stdout",
     "output_type": "stream",
     "text": [
      "(1, 3, 4, 5, 6, 7, 8, 'cherry', 'mango', 'litci', 1, 3, 4, 5, 6, 7, 8, 'cherry', 'mango', 'litci')\n"
     ]
    }
   ],
   "source": [
    "t4=t3*2                          #multipy tuples\n",
    "print(t4)"
   ]
  },
  {
   "cell_type": "code",
   "execution_count": 14,
   "id": "3592a6d0",
   "metadata": {},
   "outputs": [
    {
     "name": "stdout",
     "output_type": "stream",
     "text": [
      "1\n",
      "3\n",
      "4\n",
      "5\n",
      "6\n",
      "7\n",
      "8\n",
      "cherry\n",
      "mango\n",
      "litci\n",
      "1\n",
      "3\n",
      "4\n",
      "5\n",
      "6\n",
      "7\n",
      "8\n",
      "cherry\n",
      "mango\n",
      "litci\n"
     ]
    }
   ],
   "source": [
    "for x in t4:\n",
    "    print(x)"
   ]
  },
  {
   "cell_type": "code",
   "execution_count": 22,
   "id": "120f1138",
   "metadata": {},
   "outputs": [
    {
     "name": "stdout",
     "output_type": "stream",
     "text": [
      "the first element of t4: 1\n"
     ]
    }
   ],
   "source": [
    "#access tuple item\n",
    "print(\"the first element of t4:\",t4[0])"
   ]
  },
  {
   "cell_type": "code",
   "execution_count": 24,
   "id": "daa74f99",
   "metadata": {},
   "outputs": [
    {
     "name": "stdout",
     "output_type": "stream",
     "text": [
      "(3, 4, 5, 6)\n"
     ]
    }
   ],
   "source": [
    "print(t4[1:5])"
   ]
  },
  {
   "cell_type": "code",
   "execution_count": 25,
   "id": "b6fea7a5",
   "metadata": {},
   "outputs": [
    {
     "data": {
      "text/plain": [
       "('litci',)"
      ]
     },
     "execution_count": 25,
     "metadata": {},
     "output_type": "execute_result"
    }
   ],
   "source": [
    "t4[-1:]"
   ]
  },
  {
   "cell_type": "code",
   "execution_count": 27,
   "id": "679af8cb",
   "metadata": {},
   "outputs": [
    {
     "name": "stdout",
     "output_type": "stream",
     "text": [
      "mango in the tuple\n"
     ]
    }
   ],
   "source": [
    "# we can access and search\n",
    "if \"mango\"in t4:\n",
    "    print(\"mango in the tuple\")"
   ]
  },
  {
   "cell_type": "code",
   "execution_count": 11,
   "id": "d3fb1d16",
   "metadata": {},
   "outputs": [
    {
     "name": "stdout",
     "output_type": "stream",
     "text": [
      "[1, 2, 3, 4, 5, 6]\n",
      "tuple after changing: (1, 'changes', 3, 4, 5, 6)\n"
     ]
    }
   ],
   "source": [
    "'''tuple is not changable but  we can change by coverting them into list then again into tuple'''\n",
    "t=(1,2,3,4,5,6)\n",
    "x=list(t)\n",
    "print(x)\n",
    "x[1]=\"changes\"\n",
    "t=tuple(x)\n",
    "print(\"tuple after changing:\",t)"
   ]
  },
  {
   "cell_type": "code",
   "execution_count": 17,
   "id": "abf89665",
   "metadata": {},
   "outputs": [
    {
     "name": "stdout",
     "output_type": "stream",
     "text": [
      "<class 'tuple'>\n",
      "<class 'int'>\n",
      "if we have only single element in tuples then this how we can write it (,) \n"
     ]
    }
   ],
   "source": [
    "#st=single element tuple\n",
    "st=(1,)\n",
    "st1=(1)\n",
    "print(type(st))\n",
    "print(type(st1))\n",
    "print(\"if we have only single element in tuples then this how we can write it (,) \")"
   ]
  },
  {
   "cell_type": "code",
   "execution_count": 18,
   "id": "3e8edcc1",
   "metadata": {},
   "outputs": [
    {
     "name": "stdout",
     "output_type": "stream",
     "text": [
      "(1, 23, 3, 4, 4, 5)\n",
      "(1, 23, 3, 4, 4, 5, 23, 'insert at 7th place')\n"
     ]
    }
   ],
   "source": [
    "#append any many more method of list we can use\n",
    "t=(1,23,3,4,4,5)\n",
    "print(t)\n",
    "y=list(t)\n",
    "y.append(23)\n",
    "y.insert(7,\"insert at 7th place\")\n",
    "x=tuple(y)\n",
    "print(x)"
   ]
  },
  {
   "cell_type": "code",
   "execution_count": 21,
   "id": "342a2483",
   "metadata": {},
   "outputs": [
    {
     "ename": "NameError",
     "evalue": "name 'thistuple' is not defined",
     "output_type": "error",
     "traceback": [
      "\u001b[1;31m---------------------------------------------------------------------------\u001b[0m",
      "\u001b[1;31mNameError\u001b[0m                                 Traceback (most recent call last)",
      "Cell \u001b[1;32mIn[21], line 3\u001b[0m\n\u001b[0;32m      1\u001b[0m thistuple \u001b[38;5;241m=\u001b[39m (\u001b[38;5;124m\"\u001b[39m\u001b[38;5;124mram\u001b[39m\u001b[38;5;124m\"\u001b[39m, \u001b[38;5;124m\"\u001b[39m\u001b[38;5;124mtushara\u001b[39m\u001b[38;5;124m\"\u001b[39m, \u001b[38;5;124m\"\u001b[39m\u001b[38;5;124mpriya\u001b[39m\u001b[38;5;124m\"\u001b[39m)\n\u001b[0;32m      2\u001b[0m \u001b[38;5;28;01mdel\u001b[39;00m thistuple     \u001b[38;5;66;03m#it will delete whole tuple\u001b[39;00m\n\u001b[1;32m----> 3\u001b[0m \u001b[38;5;28mprint\u001b[39m(thistuple)\n",
      "\u001b[1;31mNameError\u001b[0m: name 'thistuple' is not defined"
     ]
    }
   ],
   "source": [
    "thistuple = (\"ram\", \"tushara\", \"priya\")\n",
    "del thistuple     #it will delete whole tuple\n",
    "print(thistuple) #this will raise an error because the tuple no longer exists"
   ]
  },
  {
   "cell_type": "code",
   "execution_count": 22,
   "id": "771a54c5",
   "metadata": {},
   "outputs": [
    {
     "name": "stdout",
     "output_type": "stream",
     "text": [
      "apple\n",
      "banana\n",
      "['cherry', 'strawberry', 'raspberry']\n"
     ]
    }
   ],
   "source": [
    "fruits = (\"apple\", \"banana\", \"cherry\", \"strawberry\", \"raspberry\")\n",
    "\n",
    "(green, yellow, *red) = fruits\n",
    "\n",
    "print(green)\n",
    "print(yellow)\n",
    "print(red) # it will print remaining element in form of list"
   ]
  },
  {
   "cell_type": "code",
   "execution_count": null,
   "id": "06dd0762",
   "metadata": {
    "scrolled": false
   },
   "outputs": [],
   "source": [
    "#Loop Through a Tuple\n",
    "for x in fruits:\n",
    "    print(x)"
   ]
  },
  {
   "cell_type": "code",
   "execution_count": null,
   "id": "aff80040",
   "metadata": {},
   "outputs": [],
   "source": [
    "tn=(\"x\",\"y\",\"z\") \n",
    "print(count(tn))"
   ]
  },
  {
   "cell_type": "code",
   "execution_count": null,
   "id": "704fa1b5",
   "metadata": {},
   "outputs": [],
   "source": [
    "print(index(tn))"
   ]
  },
  {
   "cell_type": "code",
   "execution_count": null,
   "id": "ce7f7b64",
   "metadata": {},
   "outputs": [],
   "source": []
  }
 ],
 "metadata": {
  "kernelspec": {
   "display_name": "Python 3 (ipykernel)",
   "language": "python",
   "name": "python3"
  },
  "language_info": {
   "codemirror_mode": {
    "name": "ipython",
    "version": 3
   },
   "file_extension": ".py",
   "mimetype": "text/x-python",
   "name": "python",
   "nbconvert_exporter": "python",
   "pygments_lexer": "ipython3",
   "version": "3.11.3"
  }
 },
 "nbformat": 4,
 "nbformat_minor": 5
}
