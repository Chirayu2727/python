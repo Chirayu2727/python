{
  "nbformat": 4,
  "nbformat_minor": 0,
  "metadata": {
    "colab": {
      "provenance": []
    },
    "kernelspec": {
      "name": "python3",
      "display_name": "Python 3"
    },
    "language_info": {
      "name": "python"
    }
  },
  "cells": [
    {
      "cell_type": "code",
      "execution_count": 32,
      "metadata": {
        "colab": {
          "base_uri": "https://localhost:8080/"
        },
        "id": "wBsJRmRLpr8r",
        "outputId": "498d7217-b3eb-4bee-fab0-a222a23a60ee"
      },
      "outputs": [
        {
          "output_type": "stream",
          "name": "stdout",
          "text": [
            "[[1, 3, 5, 7, 77, 8, 9], [1, 3, 5, 7, 77, 8, 9], [1, 3, 5, 7, 77, 8, 9], [1, 3, 5, 7, 77, 8, 9], [1, 3, 5, 7, 77, 8, 9], [1, 3, 5, 7, 77, 8, 9], [1, 3, 5, 7, 77, 8, 9]]\n"
          ]
        }
      ],
      "source": [
        "'''to understand concept of list compreshion we should understand through a program where we will append specific element from existing list'''\n",
        "ls=[1,3,5,7,77,8,9]\n",
        "ls1=[]\n",
        "for i in range(len(ls)):\n",
        "\n",
        "          ls1.append(ls)\n",
        "print(ls1)"
      ]
    },
    {
      "cell_type": "code",
      "source": [
        "'''instead of that using for loop then using append function we can use concept of list comphresion'''\n",
        "ls1=[1,2,3,4,5,6,7,8,9,10]\n",
        "ls2=[ls1 for ls1 in ls1 if ls1%2==0]                                      #by using listt comphresion we decreases the complexities\n",
        "print(ls2)\n"
      ],
      "metadata": {
        "colab": {
          "base_uri": "https://localhost:8080/"
        },
        "id": "F71JkHRaqpyA",
        "outputId": "9514c652-823f-4acb-e239-313094cb6a36"
      },
      "execution_count": 33,
      "outputs": [
        {
          "output_type": "stream",
          "name": "stdout",
          "text": [
            "[2, 4, 6, 8, 10]\n"
          ]
        }
      ]
    },
    {
      "cell_type": "code",
      "source": [],
      "metadata": {
        "id": "oFo5uf_psmDE"
      },
      "execution_count": 21,
      "outputs": []
    }
  ]
}