{
 "cells": [
  {
   "cell_type": "code",
   "execution_count": 1,
   "id": "518c7820-1412-4b55-b76b-bb368006f19a",
   "metadata": {
    "tags": []
   },
   "outputs": [],
   "source": [
    "database = {\"chirayu\": \"engineer\", \"mahesh babu\": \"actor\"}\n",
    "\n",
    "def display():\n",
    "    print(\"Welcome to the database\")\n",
    "    print(\"Enter your data\")\n",
    "    pin()\n",
    "\n",
    "def pin():\n",
    "    correct_pin = \"123\"\n",
    "    entered_pin = input(\"Enter the PIN: \")\n",
    "    if correct_pin != entered_pin:\n",
    "        print(\"Access denied\")\n",
    "    else:\n",
    "        print(\"Access granted\")\n",
    "        choice()\n",
    "\n",
    "def choice():\n",
    "    user_input = input(\"Clear(1), update(2), print(3): \")\n",
    "    if user_input == \"1\":\n",
    "        clear_database()\n",
    "    elif user_input == \"2\":\n",
    "        update_dictionary()\n",
    "    elif user_input == \"3\":\n",
    "        print(database)\n",
    "    else:\n",
    "        print(\"Invalid choice. Please enter 1, 2, or 3.\")\n",
    "        choice()\n",
    "\n",
    "def clear_database():\n",
    "    database.clear()\n",
    "    print(\"Data is cleared\")\n",
    "\n",
    "def update_dictionary():\n",
    "    num_updates = int(input(\"Enter the number of updates: \"))\n",
    "    for i in range(num_updates):\n",
    "        name = input(\"Enter name: \")\n",
    "        profession = input(\"Enter profession: \")\n",
    "        database[name] = profession\n",
    "        print(database)\n",
    "\n",
    "\n"
   ]
  },
  {
   "cell_type": "code",
   "execution_count": 4,
   "id": "f821aabe-c1d0-45f1-afb4-0aed47024c9a",
   "metadata": {
    "tags": []
   },
   "outputs": [
    {
     "name": "stdout",
     "output_type": "stream",
     "text": [
      "Welcome to the database\n",
      "Enter your data\n"
     ]
    },
    {
     "name": "stdin",
     "output_type": "stream",
     "text": [
      "Enter the PIN:  123\n"
     ]
    },
    {
     "name": "stdout",
     "output_type": "stream",
     "text": [
      "Access granted\n"
     ]
    },
    {
     "name": "stdin",
     "output_type": "stream",
     "text": [
      "Clear(1), update(2), print(3):  2\n",
      "Enter the number of updates:  3\n",
      "Enter name:  virat kohli\n",
      "Enter profession:  cricketer\n"
     ]
    },
    {
     "name": "stdout",
     "output_type": "stream",
     "text": [
      "{'chirayu': 'engineer', 'mahesh babu': 'actor', 'rajnikanth': 'actor', 'rakesh jhun jhunwala': 'investor', 'virat kohli': 'cricketer'}\n"
     ]
    },
    {
     "name": "stdin",
     "output_type": "stream",
     "text": [
      "Enter name:  yogi adtiyanath\n",
      "Enter profession:  cm of up\n"
     ]
    },
    {
     "name": "stdout",
     "output_type": "stream",
     "text": [
      "{'chirayu': 'engineer', 'mahesh babu': 'actor', 'rajnikanth': 'actor', 'rakesh jhun jhunwala': 'investor', 'virat kohli': 'cricketer', 'yogi adtiyanath': 'cm of up'}\n"
     ]
    },
    {
     "name": "stdin",
     "output_type": "stream",
     "text": [
      "Enter name:  neeraj chopra\n",
      "Enter profession:  javelin thrower\n"
     ]
    },
    {
     "name": "stdout",
     "output_type": "stream",
     "text": [
      "{'chirayu': 'engineer', 'mahesh babu': 'actor', 'rajnikanth': 'actor', 'rakesh jhun jhunwala': 'investor', 'virat kohli': 'cricketer', 'yogi adtiyanath': 'cm of up', 'neeraj chopra': 'javelin thrower'}\n"
     ]
    }
   ],
   "source": [
    "display()"
   ]
  },
  {
   "cell_type": "code",
   "execution_count": null,
   "id": "6a4d7dde-f04f-4c05-9c9a-8a6fe7da1f76",
   "metadata": {},
   "outputs": [],
   "source": []
  }
 ],
 "metadata": {
  "kernelspec": {
   "display_name": "Python 3 (ipykernel)",
   "language": "python",
   "name": "python3"
  },
  "language_info": {
   "codemirror_mode": {
    "name": "ipython",
    "version": 3
   },
   "file_extension": ".py",
   "mimetype": "text/x-python",
   "name": "python",
   "nbconvert_exporter": "python",
   "pygments_lexer": "ipython3",
   "version": "3.11.3"
  }
 },
 "nbformat": 4,
 "nbformat_minor": 5
}
