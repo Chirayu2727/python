{
 "cells": [
  {
   "cell_type": "code",
   "execution_count": 3,
   "id": "d1e6d7c9",
   "metadata": {},
   "outputs": [
    {
     "name": "stdout",
     "output_type": "stream",
     "text": [
      "Copied List: [0, 1, 2, 3, 4, 5]\n"
     ]
    }
   ],
   "source": [
    "''' In Python, Assignment statements do not copy objects, they create bindings between a target and an object. \n",
    "When we use the = operator, It only creates a new variable that shares the reference of the original object. \n",
    "In order to create “real copies” or “clones” of these objects, we can use the copy module in Python.'''\n",
    "\n",
    "#  list\n",
    "x = [0,1,2, 3,4, 5]\n",
    "\n",
    "# copying a list\n",
    "n= x.copy()\n",
    "\n",
    "\n",
    "print('Copied List:', n)\n",
    "\n"
   ]
  },
  {
   "cell_type": "code",
   "execution_count": null,
   "id": "97a223f5",
   "metadata": {},
   "outputs": [],
   "source": [
    "'''deep copy vs shallow copy'''\n",
    "'''Shallow Copy: Shallow repetition is quicker. \n",
    "However, it’s “lazy” it handles pointers and references.\n",
    "Rather than creating a contemporary copy of the particular knowledge the pointer points to, it simply copies over the pointer price.\n",
    "\n",
    "So, each of the first and therefore the copy can have pointers that reference constant underlying knowledge.'''\n",
    " \n",
    "    '''Deep Copy: Deep repetition truly clones the underlying data.\n",
    "    It is not shared between the first and therefore the copy.\n",
    "\n",
    "'''"
   ]
  }
 ],
 "metadata": {
  "kernelspec": {
   "display_name": "Python 3 (ipykernel)",
   "language": "python",
   "name": "python3"
  },
  "language_info": {
   "codemirror_mode": {
    "name": "ipython",
    "version": 3
   },
   "file_extension": ".py",
   "mimetype": "text/x-python",
   "name": "python",
   "nbconvert_exporter": "python",
   "pygments_lexer": "ipython3",
   "version": "3.11.3"
  }
 },
 "nbformat": 4,
 "nbformat_minor": 5
}
