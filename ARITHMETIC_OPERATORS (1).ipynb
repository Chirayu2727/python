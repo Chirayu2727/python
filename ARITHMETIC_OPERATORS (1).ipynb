{
  "nbformat": 4,
  "nbformat_minor": 0,
  "metadata": {
    "colab": {
      "provenance": []
    },
    "kernelspec": {
      "name": "python3",
      "display_name": "Python 3"
    },
    "language_info": {
      "name": "python"
    }
  },
  "cells": [
    {
      "cell_type": "code",
      "execution_count": 2,
      "metadata": {
        "colab": {
          "base_uri": "https://localhost:8080/"
        },
        "id": "baWlzafg_E1_",
        "outputId": "c892f73f-b9ab-468c-86f0-892456a61928"
      },
      "outputs": [
        {
          "output_type": "stream",
          "name": "stdout",
          "text": [
            "enter the value of a: 10\n",
            "enter the value of b: 3\n",
            "13\n",
            "7\n",
            "30\n",
            "3.3333333333333335\n",
            "3\n",
            "1000\n",
            "1\n"
          ]
        }
      ],
      "source": [
        "a=int(input(\"enter the value of a: \"))\n",
        "b=int(input(\"enter the value of b: \"))\n",
        "\n",
        "add=a+b                 #add the two opperand\n",
        "sub=a-b                  #subtract the two opperand\n",
        "product=a*b              #product between two operand\n",
        "division=a/b             #divide between two oprands\n",
        "floor=a//b               # 3/2=1.5, but in floor 3//2=1will return the floor(lowest value) value 1<1.5\n",
        "power=a**b                #it is used for power 2^3=8\n",
        "modulus=a%b               #it will return remainder value 10%3=1\n",
        "\n",
        "print(add)\n",
        "print(sub)\n",
        "print(product)\n",
        "print(division)\n",
        "print(floor)\n",
        "print(power)\n",
        "print(modulus)"
      ]
    },
    {
      "cell_type": "code",
      "source": [],
      "metadata": {
        "id": "rAMOuxmA_GKu"
      },
      "execution_count": null,
      "outputs": []
    }
  ]
}