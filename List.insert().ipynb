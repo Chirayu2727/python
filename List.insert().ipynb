{
 "cells": [
  {
   "cell_type": "code",
   "execution_count": 1,
   "id": "894bdef1",
   "metadata": {},
   "outputs": [
    {
     "name": "stdout",
     "output_type": "stream",
     "text": [
      "[]\n",
      "[1]\n",
      "[1, 81]\n",
      "[1, 81, 77]\n",
      "[1, 81, 77, 9]\n",
      "[1, 81, 77, 9, 7]\n"
     ]
    }
   ],
   "source": [
    "'''What is insert () in Python?\n",
    "insert() Function is a Python library function that is used to insert the given element at a particular index in a list.\n",
    "Syntax of the insert() function is, My_list.insert(index, element) insert() function takes 2 parameters, index and element. \n",
    "There is no return value in insert() function in Python.'''\n",
    "\n",
    "ls=[]\n",
    "print(ls)\n",
    "ls.insert(0,1)\n",
    "print(ls)\n",
    "ls.insert(1,81)\n",
    "print(ls)\n",
    "ls.insert(2,77)\n",
    "print(ls)\n",
    "ls.insert(3,9)\n",
    "print(ls)\n",
    "ls.insert(4,7)\n",
    "print(ls)"
   ]
  },
  {
   "cell_type": "code",
   "execution_count": null,
   "id": "97fb17dc",
   "metadata": {},
   "outputs": [],
   "source": []
  }
 ],
 "metadata": {
  "kernelspec": {
   "display_name": "Python 3 (ipykernel)",
   "language": "python",
   "name": "python3"
  },
  "language_info": {
   "codemirror_mode": {
    "name": "ipython",
    "version": 3
   },
   "file_extension": ".py",
   "mimetype": "text/x-python",
   "name": "python",
   "nbconvert_exporter": "python",
   "pygments_lexer": "ipython3",
   "version": "3.11.3"
  }
 },
 "nbformat": 4,
 "nbformat_minor": 5
}
