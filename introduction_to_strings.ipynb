{
  "nbformat": 4,
  "nbformat_minor": 0,
  "metadata": {
    "colab": {
      "provenance": []
    },
    "kernelspec": {
      "name": "python3",
      "display_name": "Python 3"
    },
    "language_info": {
      "name": "python"
    }
  },
  "cells": [
    {
      "cell_type": "code",
      "execution_count": 1,
      "metadata": {
        "colab": {
          "base_uri": "https://localhost:8080/"
        },
        "id": "X6ffFxsHWe5P",
        "outputId": "2094b764-0dc7-4e83-ec07-91aefdabac81"
      },
      "outputs": [
        {
          "output_type": "stream",
          "name": "stdout",
          "text": [
            "hello domsto\n"
          ]
        }
      ],
      "source": [
        "s=\"hello domsto\"                                 #single line string\n",
        "print(s)"
      ]
    },
    {
      "cell_type": "code",
      "source": [],
      "metadata": {
        "id": "5tH1rQxFXPp2"
      },
      "execution_count": null,
      "outputs": []
    },
    {
      "cell_type": "markdown",
      "source": [],
      "metadata": {
        "id": "BSs6_riNXPxU"
      }
    },
    {
      "cell_type": "code",
      "source": [
        "S=\"' Python is a high-level, general-purpose programming language. Its design philosophy emphasizes code readability with the use of significant indentation. Python is dynamically typed and garbage-collected. It supports multiple programming paradigms, including structured, object-oriented and functional programming'\"\n",
        "print(S)                        #multiline strings"
      ],
      "metadata": {
        "colab": {
          "base_uri": "https://localhost:8080/"
        },
        "id": "-9HSeTgqWlcq",
        "outputId": "db69d572-8236-4255-d779-dc0a134f4f42"
      },
      "execution_count": 7,
      "outputs": [
        {
          "output_type": "stream",
          "name": "stdout",
          "text": [
            "' Python is a high-level, general-purpose programming language. Its design philosophy emphasizes code readability with the use of significant indentation. Python is dynamically typed and garbage-collected. It supports multiple programming paradigms, including structured, object-oriented and functional programming'\n"
          ]
        }
      ]
    },
    {
      "cell_type": "code",
      "source": [
        "#loop in strings\n",
        "for i in s:\n",
        "   print(i)\n"
      ],
      "metadata": {
        "colab": {
          "base_uri": "https://localhost:8080/"
        },
        "id": "0eHD34t4W5Ro",
        "outputId": "a0602df7-d09e-45c1-eb46-6cd63bad43ea"
      },
      "execution_count": 4,
      "outputs": [
        {
          "output_type": "stream",
          "name": "stdout",
          "text": [
            "h\n",
            "e\n",
            "l\n",
            "l\n",
            "o\n",
            " \n",
            "d\n",
            "o\n",
            "m\n",
            "s\n",
            "t\n",
            "o\n"
          ]
        }
      ]
    },
    {
      "cell_type": "code",
      "source": [
        "#search in strings\n",
        "s=\"i am  big boy \"\n",
        "print(s)"
      ],
      "metadata": {
        "colab": {
          "base_uri": "https://localhost:8080/"
        },
        "id": "uIP6XRQaXESV",
        "outputId": "caf2e729-8b44-4144-b465-19d6607b0cc4"
      },
      "execution_count": 9,
      "outputs": [
        {
          "output_type": "stream",
          "name": "stdout",
          "text": [
            "i am  big boy \n"
          ]
        }
      ]
    },
    {
      "cell_type": "code",
      "source": [
        "if \"boy\" in s:\n",
        "  print(\"true\")"
      ],
      "metadata": {
        "colab": {
          "base_uri": "https://localhost:8080/"
        },
        "id": "bV8ijS8pXlqX",
        "outputId": "48f772e7-f59e-4ed5-8a6f-b67264a54f62"
      },
      "execution_count": 10,
      "outputs": [
        {
          "output_type": "stream",
          "name": "stdout",
          "text": [
            "true\n"
          ]
        }
      ]
    },
    {
      "cell_type": "code",
      "source": [],
      "metadata": {
        "id": "lv1Zez-KXzUk"
      },
      "execution_count": null,
      "outputs": []
    }
  ]
}